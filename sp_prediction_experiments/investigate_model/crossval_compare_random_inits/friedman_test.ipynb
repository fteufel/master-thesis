{
 "cells": [
  {
   "cell_type": "markdown",
   "metadata": {},
   "source": [
    "## perform friedman test to see if means are different between models\n",
    "\n",
    "http://citeseerx.ist.psu.edu/viewdoc/download?doi=10.1.1.141.3142&rep=rep1&type=pdf\n"
   ]
  },
  {
   "cell_type": "code",
   "execution_count": 10,
   "metadata": {},
   "outputs": [],
   "source": [
    "import pandas as pd\n",
    "from scipy import stats\n",
    "\n",
    "model1 = pd.read_csv('crossval_metrics_all_model_output.csv').set_index('Unnamed: 0')\n",
    "model2 = pd.read_csv('crossval_metrics_random_init_1_output.csv').set_index('Unnamed: 0')\n",
    "model3 = pd.read_csv('crossval_metrics_random_init_2_output.csv').set_index('Unnamed: 0')"
   ]
  },
  {
   "cell_type": "code",
   "execution_count": 30,
   "metadata": {},
   "outputs": [
    {
     "data": {
      "text/plain": [
       "FriedmanchisquareResult(statistic=1.6000000000000227, pvalue=0.44932896411721657)"
      ]
     },
     "execution_count": 30,
     "metadata": {},
     "output_type": "execute_result"
    }
   ],
   "source": [
    "metric = 'mcc'\n",
    "measurements = [model1.loc[metric].values,model2.loc[metric].values,model3.loc[metric].values]\n",
    "stats.friedmanchisquare(*measurements)"
   ]
  },
  {
   "cell_type": "code",
   "execution_count": 46,
   "metadata": {},
   "outputs": [],
   "source": [
    "pvals = {}\n",
    "for metric in model1.index:\n",
    "    measurements = [model1.loc[metric].values,model2.loc[metric].values,model3.loc[metric].values]\n",
    "    stat, pval = stats.friedmanchisquare(*measurements)\n",
    "    pvals[metric] = pval"
   ]
  },
  {
   "cell_type": "code",
   "execution_count": 62,
   "metadata": {},
   "outputs": [
    {
     "data": {
      "text/plain": [
       "<matplotlib.lines.Line2D at 0x7faeb75a06d8>"
      ]
     },
     "execution_count": 62,
     "metadata": {},
     "output_type": "execute_result"
    },
    {
     "data": {
      "image/png": "[encoded data removed]",
      "text/plain": [
       "<Figure size 432x288 with 1 Axes>"
      ]
     },
     "metadata": {
      "needs_background": "light"
     },
     "output_type": "display_data"
    }
   ],
   "source": [
    "import seaborn as sns\n",
    "import matplotlib.pyplot as plt\n",
    "sns.swarmplot(x=list(pvals.values()))\n",
    "plt.axvline(0.05, c='r')"
   ]
  },
  {
   "cell_type": "code",
   "execution_count": 51,
   "metadata": {},
   "outputs": [
    {
     "data": {
      "text/plain": [
       "[('ARCHAEA_TAT_recall_window_3', 0.042143843509275726),\n",
       " ('NEGATIVE_TAT_recall_window_1', 0.0174769047191144),\n",
       " ('NEGATIVE_TAT_recall_window_2', 0.0015143732481796895),\n",
       " ('NEGATIVE_TAT_precision_window_2', 0.014666017116526915),\n",
       " ('POSITIVE_SP_recall_window_1', 0.022214333531886815),\n",
       " ('POSITIVE_SP_precision_window_1', 0.04401223254864899)]"
      ]
     },
     "execution_count": 51,
     "metadata": {},
     "output_type": "execute_result"
    }
   ],
   "source": [
    "[(x, pvals[x]) for x in pvals if pvals[x]<0.05]"
   ]
  },
  {
   "cell_type": "code",
   "execution_count": null,
   "metadata": {},
   "outputs": [],
   "source": [
    "23/176\n",
    "\n",
    "acc = P(class=0) * P(prediction=0) + P(class=1) * P(prediction=1)\n",
    "    = (0.9 * 0.9) + (0.1 * 0.1)\n",
    "    = 0.82"
   ]
  },
  {
   "cell_type": "code",
   "execution_count": 63,
   "metadata": {},
   "outputs": [
    {
     "data": {
      "text/plain": [
       "0.7727918388429751"
      ]
     },
     "execution_count": 63,
     "metadata": {},
     "output_type": "execute_result"
    }
   ],
   "source": [
    "((23/176) * (23/176)) + ((153/176)*(153/176))"
   ]
  },
  {
   "cell_type": "code",
   "execution_count": 64,
   "metadata": {},
   "outputs": [
    {
     "data": {
      "text/plain": [
       "0.8693181818181818"
      ]
     },
     "execution_count": 64,
     "metadata": {},
     "output_type": "execute_result"
    }
   ],
   "source": [
    "153/176"
   ]
  },
  {
   "cell_type": "code",
   "execution_count": null,
   "metadata": {},
   "outputs": [],
   "source": []
  }
 ],
 "metadata": {
  "kernelspec": {
   "display_name": "Python 3",
   "language": "python",
   "name": "python3"
  },
  "language_info": {
   "codemirror_mode": {
    "name": "ipython",
    "version": 3
   },
   "file_extension": ".py",
   "mimetype": "text/x-python",
   "name": "python",
   "nbconvert_exporter": "python",
   "pygments_lexer": "ipython3",
   "version": "3.6.9"
  }
 },
 "nbformat": 4,
 "nbformat_minor": 4
}
