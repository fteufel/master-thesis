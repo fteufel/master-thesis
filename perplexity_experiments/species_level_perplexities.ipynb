{
 "cells": [
  {
   "cell_type": "markdown",
   "metadata": {},
   "source": [
    "## Experiment: single species plasmodium perplexities\n",
    "\n",
    "__Mail Henrik 14/08/2020__: We realized that _P. vivax_ has a relatively high GC content, compared to _P. falciparum_ and most others.  \n",
    "We split the test set per species, and evaluate the perplexities of the fine-tuned model."
   ]
  },
  {
   "cell_type": "code",
   "execution_count": 2,
   "metadata": {},
   "outputs": [],
   "source": [
    "import sys\n",
    "sys.path.append('..')\n",
    "from models.awd_lstm import ProteinAWDLSTMForLM, ProteinAWDLSTMConfig\n",
    "from tape import TAPETokenizer\n",
    "import pandas as pd\n",
    "import numpy as np\n",
    "import matplotlib.pyplot as plt\n",
    "import torch\n",
    "from tape.datasets import pad_sequences\n",
    "\n",
    "from tqdm import tqdm_notebook as tqdm\n"
   ]
  },
  {
   "cell_type": "code",
   "execution_count": 4,
   "metadata": {},
   "outputs": [],
   "source": [
    "device = torch.device('cuda' if torch.cuda.is_available() else 'cpu')"
   ]
  },
  {
   "cell_type": "markdown",
   "metadata": {},
   "source": [
    "### Split the data"
   ]
  },
  {
   "cell_type": "code",
   "execution_count": 5,
   "metadata": {},
   "outputs": [],
   "source": [
    "test_data = pd.read_csv('plasmodium_test_full.tsv', sep = '\\t')\n",
    "test_data.head()\n",
    "\n",
    "organisms = test_data['Organism'].value_counts()\n",
    "organisms = organisms[organisms>10]"
   ]
  },
  {
   "cell_type": "markdown",
   "metadata": {},
   "source": [
    "### Util functions for dataloading + model evaluation"
   ]
  },
  {
   "cell_type": "code",
   "execution_count": 6,
   "metadata": {},
   "outputs": [],
   "source": [
    "class FullSeqSeriesDataSet(torch.utils.data.Dataset):\n",
    "    def __init__(self, pd_series):\n",
    "        super().__init__\n",
    "        self.data = pd_series.values\n",
    "        self.tokenizer = TAPETokenizer()\n",
    "    \n",
    "    def __len__(self):\n",
    "        return len(self.data)\n",
    "    \n",
    "    def __getitem__(self, idx):\n",
    "        seq = self.data[idx]\n",
    "        tokenized = self.tokenizer.tokenize(seq) + [self.tokenizer.stop_token]\n",
    "        token_ids = self.tokenizer.convert_tokens_to_ids(tokenized)\n",
    "        input_ids = token_ids[:-1]\n",
    "        target_ids =token_ids[1:]\n",
    "        assert len(target_ids) == len(input_ids)\n",
    "        return np.array(input_ids), np.array(target_ids) \n",
    "    \n",
    "    @staticmethod\n",
    "    def collate_fn(batch):\n",
    "        data, targets = tuple(zip(*batch))   \n",
    "        torch_data = torch.from_numpy(pad_sequences(data, 0)) #0 is tokenizer pad token\n",
    "        torch_targets = torch.from_numpy(pad_sequences(targets, -1)) #pad with -1 to ignore loss\n",
    "\n",
    "        return torch_data.permute(1,0), torch_targets.permute(1,0)  # type: ignore\n",
    "    \n",
    "def run_model_on_data(model, dataset) -> float:\n",
    "    dl = torch.utils.data.DataLoader(ds, batch_size=100, collate_fn=ds.collate_fn)\n",
    "    total_loss = 0\n",
    "    for i, batch in enumerate(dl):\n",
    "        data, targets = batch\n",
    "        data = data.to(device).contiguous()\n",
    "        targets = targets.to(device).contiguous()\n",
    "        with torch.no_grad():\n",
    "            loss, _, _ = model(data, targets = targets) #loss, output, hidden states        \n",
    "        #NOTE this is the mean loss over all dimensions: batch_size, seq_len\n",
    "        #Here I am using datasets with a low number of sequences, so the last batch will be much less than 100 presumably.\n",
    "        #To compare, need to make sure I do not ignore this -> no sum(avg_loss)/n_batches mean.\n",
    "        #For the model comparison this was no issue, as all models were run on the same dataset, so the error would be systematic\n",
    "        #If it is even an error. No best practice on how to really average perplexity.\n",
    "        total_loss += loss.item()*len(data)\n",
    "        \n",
    "    return total_loss / len(dataset)"
   ]
  },
  {
   "cell_type": "markdown",
   "metadata": {},
   "source": [
    "### Set up model and evaluate on species-level data"
   ]
  },
  {
   "cell_type": "code",
   "execution_count": 7,
   "metadata": {},
   "outputs": [],
   "source": [
    "model = ProteinAWDLSTMForLM.from_pretrained('../model_checkpoints/best_models_31072020/best_euk_finetuned_10_epochs/')"
   ]
  },
  {
   "cell_type": "code",
   "execution_count": null,
   "metadata": {},
   "outputs": [
    {
     "name": "stderr",
     "output_type": "stream",
     "text": [
      "/mnt/c/Users/felix/Coding/protein_modeling/testenv/lib/python3.6/site-packages/ipykernel_launcher.py:2: TqdmDeprecationWarning: This function will be removed in tqdm==5.0.0\n",
      "Please use `tqdm.notebook.tqdm` instead of `tqdm.tqdm_notebook`\n",
      "  \n"
     ]
    },
    {
     "data": {
      "application/vnd.jupyter.widget-view+json": {
       "model_id": "90f64c028d0042efb4a288ace4c23064",
       "version_major": 2,
       "version_minor": 0
      },
      "text/plain": [
       "HBox(children=(FloatProgress(value=0.0, max=55.0), HTML(value='')))"
      ]
     },
     "metadata": {},
     "output_type": "display_data"
    },
    {
     "name": "stdout",
     "output_type": "stream",
     "text": [
      "Plasmodium ovale wallikeri\n",
      "Plasmodium malariae\n",
      "Plasmodium gonderi\n",
      "Plasmodium ovale curtisi\n",
      "Plasmodium vivax\n",
      "Plasmodium gallinaceum\n",
      "Plasmodium relictum\n",
      "Plasmodium inui San Antonio 1\n",
      "Plasmodium fragile\n",
      "Plasmodium coatneyi\n"
     ]
    }
   ],
   "source": [
    "results_dict = {}\n",
    "for org in tqdm(organisms.index):\n",
    "    print(org)\n",
    "    data =  test_data.loc[test_data['Organism'] ==org, 'Sequence']\n",
    "    ds= FullSeqSeriesDataSet(data)\n",
    "    loss = run_model_on_data(model, ds)\n",
    "    results_dict[org] = np.exp(loss)"
   ]
  },
  {
   "cell_type": "code",
   "execution_count": 4,
   "metadata": {},
   "outputs": [],
   "source": [
    "testdict = {'Plasmodium ovale wallikeri': 1231, 'Plasmodium ovale': 554.3}\n",
    "lendict = {'Plasmodium ovale wallikeri': 23, 'Plasmodium ovale': 18}"
   ]
  },
  {
   "cell_type": "code",
   "execution_count": 12,
   "metadata": {},
   "outputs": [
    {
     "data": {
      "text/html": [
       "<div>\n",
       "<style scoped>\n",
       "    .dataframe tbody tr th:only-of-type {\n",
       "        vertical-align: middle;\n",
       "    }\n",
       "\n",
       "    .dataframe tbody tr th {\n",
       "        vertical-align: top;\n",
       "    }\n",
       "\n",
       "    .dataframe thead th {\n",
       "        text-align: right;\n",
       "    }\n",
       "</style>\n",
       "<table border=\"1\" class=\"dataframe\">\n",
       "  <thead>\n",
       "    <tr style=\"text-align: right;\">\n",
       "      <th></th>\n",
       "      <th>perplexity</th>\n",
       "      <th>n_sequences</th>\n",
       "    </tr>\n",
       "  </thead>\n",
       "  <tbody>\n",
       "    <tr>\n",
       "      <th>Plasmodium ovale wallikeri</th>\n",
       "      <td>1231.0</td>\n",
       "      <td>23.0</td>\n",
       "    </tr>\n",
       "    <tr>\n",
       "      <th>Plasmodium ovale</th>\n",
       "      <td>554.3</td>\n",
       "      <td>18.0</td>\n",
       "    </tr>\n",
       "  </tbody>\n",
       "</table>\n",
       "</div>"
      ],
      "text/plain": [
       "                            perplexity  n_sequences\n",
       "Plasmodium ovale wallikeri      1231.0         23.0\n",
       "Plasmodium ovale                 554.3         18.0"
      ]
     },
     "execution_count": 12,
     "metadata": {},
     "output_type": "execute_result"
    }
   ],
   "source": [
    "pd.DataFrame([pd.Series(testdict), pd.Series(lendict)], index = ['perplexity', 'n_sequences']).T"
   ]
  },
  {
   "cell_type": "code",
   "execution_count": null,
   "metadata": {},
   "outputs": [],
   "source": []
  }
 ],
 "metadata": {
  "kernelspec": {
   "display_name": "Python 3",
   "language": "python",
   "name": "python3"
  },
  "language_info": {
   "codemirror_mode": {
    "name": "ipython",
    "version": 3
   },
   "file_extension": ".py",
   "mimetype": "text/x-python",
   "name": "python",
   "nbconvert_exporter": "python",
   "pygments_lexer": "ipython3",
   "version": "3.6.9"
  }
 },
 "nbformat": 4,
 "nbformat_minor": 4
}
