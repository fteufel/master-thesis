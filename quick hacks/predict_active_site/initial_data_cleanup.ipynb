{
 "cells": [
  {
   "cell_type": "code",
   "execution_count": 15,
   "metadata": {},
   "outputs": [],
   "source": [
    "import pandas as pd\n",
    "import numpy as np\n",
    "import re\n",
    "df = pd.read_csv('uniprot_experimental.tsv', sep='\\t')"
   ]
  },
  {
   "cell_type": "code",
   "execution_count": 48,
   "metadata": {},
   "outputs": [],
   "source": [
    "def cleanup_act_site(raw_string: str) -> list:\n",
    "    matches = re.findall('ACT_SITE [0-9]{1,4}', raw_string)\n",
    "    return [int(x.lstrip('ACT_SITE ')) -1  for x in matches] #-1 correct 0 indexing\n",
    "    "
   ]
  },
  {
   "cell_type": "code",
   "execution_count": 49,
   "metadata": {},
   "outputs": [],
   "source": [
    "site_indices = df['Active site'].apply(lambda x: cleanup_act_site(x))\n",
    "sequences = df['Sequence']"
   ]
  },
  {
   "cell_type": "code",
   "execution_count": 56,
   "metadata": {},
   "outputs": [],
   "source": [
    "tag_sequences = []\n",
    "for sequence, sites in zip(sequences, site_indices):\n",
    "    tag_seq = ['N'] * len(sequence)\n",
    "    for i in sites:\n",
    "        tag_seq[i] = 'A'\n",
    "        \n",
    "    tag_seq = ''.join(tag_seq)\n",
    "    tag_sequences.append(tag_seq)\n",
    "    "
   ]
  },
  {
   "cell_type": "code",
   "execution_count": 161,
   "metadata": {},
   "outputs": [],
   "source": [
    "tags = pd.Series(tag_sequences, name='Tags')\n",
    "\n",
    "pd.DataFrame([sequences, tags]).T.to_csv('active_site_tagged_sequences_experimental.tsv', sep ='\\t', index = False)\n",
    "\n",
    "df['Tags'] = tags"
   ]
  },
  {
   "cell_type": "markdown",
   "metadata": {},
   "source": [
    "## Homology partitioning and train-test-val split"
   ]
  },
  {
   "cell_type": "code",
   "execution_count": null,
   "metadata": {},
   "outputs": [],
   "source": [
    "!mmseqs easy-cluster uniprot_experimental.fasta clusterres/ tmp -a --min-seq-id 0.2 -s 6 --cov-mode 1 -c 0.8 --cluster-mode 2 --max-seqs 2000 --threads 12"
   ]
  },
  {
   "cell_type": "code",
   "execution_count": 224,
   "metadata": {},
   "outputs": [],
   "source": [
    "#sort cluster assignments and raw data to align\n",
    "clusters = pd.read_csv('clusterres/_cluster.tsv', sep ='\\t', header = None)\n",
    "clusters = clusters.sort_values(1).reset_index(drop = True)\n",
    "df = df.sort_values('Entry').reset_index(drop = True)"
   ]
  },
  {
   "cell_type": "code",
   "execution_count": 229,
   "metadata": {},
   "outputs": [],
   "source": [
    "#make splits\n",
    "from sklearn.model_selection import GroupShuffleSplit\n",
    "gss = GroupShuffleSplit(n_splits=1, train_size=.8, random_state=42)\n",
    "splits = gss.split(df, groups= clusters[0])\n",
    "\n",
    "tr_idx, test_idx = list(splits)[0]\n",
    "train_df = df.loc[tr_idx].reset_index(drop=True)\n",
    "test_df = df.loc[test_idx].reset_index(drop=True)\n",
    "test_df[['Sequence', 'Tags']].to_csv(f'test.tsv',sep='\\t', index=False)\n",
    "train_clusters = clusters.loc[tr_idx].reset_index(drop=True)\n",
    "\n",
    "\n",
    "#crossvalidation splits\n",
    "gss = GroupShuffleSplit(n_splits=5, train_size=.8, random_state=42)\n",
    "splits = gss.split(train_df, groups= train_clusters[0])\n",
    "\n",
    "for i, (train_idx, test_idx) in enumerate(splits):\n",
    "    train_df[['Sequence', 'Tags']].loc[train_idx].to_csv(f'train_{i}.tsv',sep='\\t', index=False)\n",
    "    train_df[['Sequence', 'Tags']].loc[test_idx].to_csv(f'valid_{i}.tsv',sep='\\t', index=False)"
   ]
  },
  {
   "cell_type": "markdown",
   "metadata": {},
   "source": [
    "## Test dataloading before moving to modeling"
   ]
  },
  {
   "cell_type": "code",
   "execution_count": 233,
   "metadata": {},
   "outputs": [],
   "source": [
    "import sys\n",
    "import torch\n",
    "sys.path.append('../..')\n",
    "from train_scripts.training_utils import SequenceTaggingDataset"
   ]
  },
  {
   "cell_type": "code",
   "execution_count": 72,
   "metadata": {},
   "outputs": [],
   "source": [
    "ds = SequenceTaggingDataset(data_file='active_site_tagged_sequences_experimental.tsv', label_dict= {'N':0, 'A':1} )"
   ]
  },
  {
   "cell_type": "code",
   "execution_count": 234,
   "metadata": {},
   "outputs": [],
   "source": [
    "dl = torch.utils.data.DataLoader(ds, collate_fn=ds.collate_fn, batch_size =5)\n",
    "iterator = iter(dl)"
   ]
  },
  {
   "cell_type": "code",
   "execution_count": 236,
   "metadata": {},
   "outputs": [
    {
     "name": "stdout",
     "output_type": "stream",
     "text": [
      "(147,)\n",
      "(147,)\n",
      "(290,)\n",
      "(290,)\n",
      "(780,)\n",
      "(780,)\n",
      "(384,)\n",
      "(384,)\n",
      "(430,)\n",
      "(430,)\n"
     ]
    }
   ],
   "source": [
    "data, targets, mask = next(iterator)"
   ]
  },
  {
   "cell_type": "code",
   "execution_count": 258,
   "metadata": {},
   "outputs": [
    {
     "data": {
      "text/plain": [
       "tensor([[1, 1, 1, 1, 1],\n",
       "        [1, 1, 1, 1, 1],\n",
       "        [1, 1, 1, 1, 1],\n",
       "        ...,\n",
       "        [0, 0, 1, 0, 0],\n",
       "        [0, 0, 1, 0, 0],\n",
       "        [0, 0, 1, 0, 0]])"
      ]
     },
     "execution_count": 258,
     "metadata": {},
     "output_type": "execute_result"
    }
   ],
   "source": [
    "mask"
   ]
  },
  {
   "cell_type": "code",
   "execution_count": 257,
   "metadata": {},
   "outputs": [
    {
     "data": {
      "text/plain": [
       "tensor(0.)"
      ]
     },
     "execution_count": 257,
     "metadata": {},
     "output_type": "execute_result"
    }
   ],
   "source": [
    "probs = torch.tensor([0,  1.0,1.0,0,0])\n",
    "targets = torch.tensor([0,1,1,1,1]).float()\n",
    "torch.nn.functional.binary_cross_entropy(probs, targets, weight = torch.tensor([1,1,1,0,0]).float())"
   ]
  },
  {
   "cell_type": "code",
   "execution_count": null,
   "metadata": {},
   "outputs": [],
   "source": []
  }
 ],
 "metadata": {
  "kernelspec": {
   "display_name": "Python 3",
   "language": "python",
   "name": "python3"
  },
  "language_info": {
   "codemirror_mode": {
    "name": "ipython",
    "version": 3
   },
   "file_extension": ".py",
   "mimetype": "text/x-python",
   "name": "python",
   "nbconvert_exporter": "python",
   "pygments_lexer": "ipython3",
   "version": "3.6.9"
  }
 },
 "nbformat": 4,
 "nbformat_minor": 4
}
